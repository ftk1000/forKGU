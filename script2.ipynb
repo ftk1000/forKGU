{
 "cells": [
  {
   "cell_type": "code",
   "execution_count": 50,
   "metadata": {},
   "outputs": [],
   "source": [
    "import os\n",
    "import pandas as pd\n",
    "\n",
    "wd = \"C:\\\\Users\\\\Farid Khafizov\\\\conda\\\\kgu\\\\\"\n",
    "logdir = \"log_dir\\\\\"\n",
    "output_file = 'results.csv'\n",
    "\n",
    "logfiles = os.listdir(wd+logdir)"
   ]
  },
  {
   "cell_type": "code",
   "execution_count": 51,
   "metadata": {},
   "outputs": [
    {
     "data": {
      "text/html": [
       "<div>\n",
       "<style scoped>\n",
       "    .dataframe tbody tr th:only-of-type {\n",
       "        vertical-align: middle;\n",
       "    }\n",
       "\n",
       "    .dataframe tbody tr th {\n",
       "        vertical-align: top;\n",
       "    }\n",
       "\n",
       "    .dataframe thead th {\n",
       "        text-align: right;\n",
       "    }\n",
       "</style>\n",
       "<table border=\"1\" class=\"dataframe\">\n",
       "  <thead>\n",
       "    <tr style=\"text-align: right;\">\n",
       "      <th></th>\n",
       "      <th>filename</th>\n",
       "      <th>energy</th>\n",
       "    </tr>\n",
       "  </thead>\n",
       "  <tbody>\n",
       "    <tr>\n",
       "      <th>0</th>\n",
       "      <td>BOM_4NOtBu_conf_4 - Copy (3)</td>\n",
       "      <td>-1539.7706278</td>\n",
       "    </tr>\n",
       "    <tr>\n",
       "      <th>1</th>\n",
       "      <td>BOM_4NOtBu_conf_4 - Copy</td>\n",
       "      <td>-1539.7706278</td>\n",
       "    </tr>\n",
       "    <tr>\n",
       "      <th>2</th>\n",
       "      <td>BOM_4NOtBu_conf_4</td>\n",
       "      <td>-1539.7706278</td>\n",
       "    </tr>\n",
       "  </tbody>\n",
       "</table>\n",
       "</div>"
      ],
      "text/plain": [
       "                       filename         energy\n",
       "0  BOM_4NOtBu_conf_4 - Copy (3)  -1539.7706278\n",
       "1      BOM_4NOtBu_conf_4 - Copy  -1539.7706278\n",
       "2             BOM_4NOtBu_conf_4  -1539.7706278"
      ]
     },
     "execution_count": 51,
     "metadata": {},
     "output_type": "execute_result"
    }
   ],
   "source": [
    "PREFIX = \"BOM_4NOtBu\"\n",
    "goodfiles=[]\n",
    "energy = []\n",
    "for fn in logfiles: \n",
    "    if fn.find(PREFIX)==0:\n",
    "        goodfiles.append(fn.split('.')[0])\n",
    "        enVal = -1\n",
    "        with open(wd+logdir+fn) as f:\n",
    "            content = f.readlines()\n",
    "            for ss in content: \n",
    "                pos = ss.find(\"HF=\")\n",
    "                if pos>=0:\n",
    "                    enVal = ss[pos:].split('\\\\')[0].split('=')[1]\n",
    "        energy.append(enVal)\n",
    "        \n",
    "df=pd.DataFrame({'filename':goodfiles, 'energy':energy})\n",
    "df"
   ]
  },
  {
   "cell_type": "code",
   "execution_count": 52,
   "metadata": {},
   "outputs": [],
   "source": [
    "df.to_csv(wd+output_file)"
   ]
  }
 ],
 "metadata": {
  "kernelspec": {
   "display_name": "Python 3",
   "language": "python",
   "name": "python3"
  },
  "language_info": {
   "codemirror_mode": {
    "name": "ipython",
    "version": 3
   },
   "file_extension": ".py",
   "mimetype": "text/x-python",
   "name": "python",
   "nbconvert_exporter": "python",
   "pygments_lexer": "ipython3",
   "version": "3.7.6"
  }
 },
 "nbformat": 4,
 "nbformat_minor": 4
}
